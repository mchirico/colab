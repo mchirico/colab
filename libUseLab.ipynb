{
  "nbformat": 4,
  "nbformat_minor": 0,
  "metadata": {
    "colab": {
      "name": "libUseLab.ipynb",
      "version": "0.3.2",
      "provenance": [],
      "collapsed_sections": [],
      "include_colab_link": true
    },
    "kernelspec": {
      "name": "python3",
      "display_name": "Python 3"
    },
    "accelerator": "GPU"
  },
  "cells": [
    {
      "cell_type": "markdown",
      "metadata": {
        "id": "view-in-github",
        "colab_type": "text"
      },
      "source": [
        "<a href=\"https://colab.research.google.com/github/mchirico/colab/blob/master/libUseLab.ipynb\" target=\"_parent\"><img src=\"https://colab.research.google.com/assets/colab-badge.svg\" alt=\"Open In Colab\"/></a>"
      ]
    },
    {
      "cell_type": "code",
      "metadata": {
        "id": "BcL6VRGoJp3h",
        "colab_type": "code",
        "colab": {
          "base_uri": "https://localhost:8080/",
          "height": 85
        },
        "outputId": "b0c727db-7781-4302-a144-650d28b6d897"
      },
      "source": [
        "!curl -s https://course.fast.ai/setup/colab | bash\n",
        "!pip install fire\n",
        "\n",
        "\n",
        "from fastai import *\n",
        "from fastai.vision import *\n",
        "from fastai.metrics import error_rate\n",
        "\n"
      ],
      "execution_count": 46,
      "outputs": [
        {
          "output_type": "stream",
          "text": [
            "Updating fastai...\n",
            "Done.\n",
            "Requirement already satisfied: fire in /usr/local/lib/python3.6/dist-packages (0.1.3)\n",
            "Requirement already satisfied: six in /usr/local/lib/python3.6/dist-packages (from fire) (1.12.0)\n"
          ],
          "name": "stdout"
        }
      ]
    },
    {
      "cell_type": "code",
      "metadata": {
        "id": "JgbAh7cmKnWh",
        "colab_type": "code",
        "colab": {}
      },
      "source": [
        "from google.colab import drive\n",
        "drive.mount('/content/gdrive', force_remount=True)\n",
        "root_dir = \"/content/gdrive/My Drive/\"\n",
        "base_dir = root_dir + 'fastai-v3/'"
      ],
      "execution_count": 0,
      "outputs": []
    },
    {
      "cell_type": "code",
      "metadata": {
        "id": "b0AQ9wWDK3Ej",
        "colab_type": "code",
        "colab": {}
      },
      "source": [
        "!ln -s '/content/gdrive/My Drive/Colab Notebooks/exp/' exp"
      ],
      "execution_count": 0,
      "outputs": []
    },
    {
      "cell_type": "code",
      "metadata": {
        "id": "u4qLLhrFLOlc",
        "colab_type": "code",
        "outputId": "460a749e-1950-4291-e778-e6e7c020aa09",
        "colab": {
          "base_uri": "https://localhost:8080/",
          "height": 34
        }
      },
      "source": [
        "!ls exp"
      ],
      "execution_count": 49,
      "outputs": [
        {
          "output_type": "stream",
          "text": [
            "nb_devLibFastAI.py  __pycache__\n"
          ],
          "name": "stdout"
        }
      ]
    },
    {
      "cell_type": "code",
      "metadata": {
        "id": "hXgyziulLRmN",
        "colab_type": "code",
        "colab": {}
      },
      "source": [
        "from exp.nb_devLibFastAI import *"
      ],
      "execution_count": 0,
      "outputs": []
    },
    {
      "cell_type": "code",
      "metadata": {
        "id": "uyfxJ1G3jIXr",
        "colab_type": "code",
        "colab": {
          "base_uri": "https://localhost:8080/",
          "height": 34
        },
        "outputId": "816cd02e-afe3-4e05-9d62-56cbe7af5c65"
      },
      "source": [
        "path = datasets.download_data(MNIST_URL,ext='.gz');path"
      ],
      "execution_count": 51,
      "outputs": [
        {
          "output_type": "execute_result",
          "data": {
            "text/plain": [
              "PosixPath('/content/data/mnist.pkl.gz')"
            ]
          },
          "metadata": {
            "tags": []
          },
          "execution_count": 51
        }
      ]
    },
    {
      "cell_type": "code",
      "metadata": {
        "id": "c1hS_Qe7j3E6",
        "colab_type": "code",
        "colab": {}
      },
      "source": [
        "with gzip.open(path, 'rb') as f:\n",
        "    ((x_train, y_train), (x_valid, y_valid), _) = pickle.load(f, encoding='latin-1')\n"
      ],
      "execution_count": 0,
      "outputs": []
    },
    {
      "cell_type": "code",
      "metadata": {
        "id": "AlDJ3o5dkCy3",
        "colab_type": "code",
        "colab": {
          "base_uri": "https://localhost:8080/",
          "height": 221
        },
        "outputId": "ac67a642-be4b-42c3-cd2b-4d82ff67dc94"
      },
      "source": [
        "x_train,y_train,x_valid,y_valid = map(tensor, (x_train,y_train,x_valid,y_valid))\n",
        "n,c = x_train.shape\n",
        "x_train, x_train.shape, y_train, y_train.shape, y_train.min(), y_train.max()"
      ],
      "execution_count": 53,
      "outputs": [
        {
          "output_type": "execute_result",
          "data": {
            "text/plain": [
              "(tensor([[0., 0., 0.,  ..., 0., 0., 0.],\n",
              "         [0., 0., 0.,  ..., 0., 0., 0.],\n",
              "         [0., 0., 0.,  ..., 0., 0., 0.],\n",
              "         ...,\n",
              "         [0., 0., 0.,  ..., 0., 0., 0.],\n",
              "         [0., 0., 0.,  ..., 0., 0., 0.],\n",
              "         [0., 0., 0.,  ..., 0., 0., 0.]]),\n",
              " torch.Size([50000, 784]),\n",
              " tensor([5, 0, 4,  ..., 8, 4, 8]),\n",
              " torch.Size([50000]),\n",
              " tensor(0),\n",
              " tensor(9))"
            ]
          },
          "metadata": {
            "tags": []
          },
          "execution_count": 53
        }
      ]
    },
    {
      "cell_type": "code",
      "metadata": {
        "id": "UNu8L_hTkFzX",
        "colab_type": "code",
        "colab": {
          "base_uri": "https://localhost:8080/",
          "height": 136
        },
        "outputId": "267f18b3-0621-45ef-a4cb-185b377cae00"
      },
      "source": [
        "x_train"
      ],
      "execution_count": 54,
      "outputs": [
        {
          "output_type": "execute_result",
          "data": {
            "text/plain": [
              "tensor([[0., 0., 0.,  ..., 0., 0., 0.],\n",
              "        [0., 0., 0.,  ..., 0., 0., 0.],\n",
              "        [0., 0., 0.,  ..., 0., 0., 0.],\n",
              "        ...,\n",
              "        [0., 0., 0.,  ..., 0., 0., 0.],\n",
              "        [0., 0., 0.,  ..., 0., 0., 0.],\n",
              "        [0., 0., 0.,  ..., 0., 0., 0.]])"
            ]
          },
          "metadata": {
            "tags": []
          },
          "execution_count": 54
        }
      ]
    },
    {
      "cell_type": "code",
      "metadata": {
        "id": "ceWd0Em2kOmd",
        "colab_type": "code",
        "colab": {}
      },
      "source": [
        "assert n==y_train.shape[0]==50000\n",
        "test_eq(c,28*28)\n",
        "test_eq(y_train.min(),0)\n",
        "test_eq(y_train.max(),9)"
      ],
      "execution_count": 0,
      "outputs": []
    },
    {
      "cell_type": "code",
      "metadata": {
        "id": "I-vd0xuhlAn3",
        "colab_type": "code",
        "colab": {}
      },
      "source": [
        "mpl.rcParams['image.cmap'] = 'gray'"
      ],
      "execution_count": 0,
      "outputs": []
    },
    {
      "cell_type": "code",
      "metadata": {
        "id": "fxPz7-XzlGdN",
        "colab_type": "code",
        "colab": {}
      },
      "source": [
        "img = x_train[0]"
      ],
      "execution_count": 0,
      "outputs": []
    },
    {
      "cell_type": "code",
      "metadata": {
        "id": "GktYsaOklIvW",
        "colab_type": "code",
        "colab": {
          "base_uri": "https://localhost:8080/",
          "height": 34
        },
        "outputId": "ee84e6b5-e30f-4968-9909-1663bbfdbcc3"
      },
      "source": [
        "img.view(28,28).type()"
      ],
      "execution_count": 58,
      "outputs": [
        {
          "output_type": "execute_result",
          "data": {
            "text/plain": [
              "'torch.FloatTensor'"
            ]
          },
          "metadata": {
            "tags": []
          },
          "execution_count": 58
        }
      ]
    },
    {
      "cell_type": "code",
      "metadata": {
        "id": "Vzrjstf0lLyB",
        "colab_type": "code",
        "colab": {
          "base_uri": "https://localhost:8080/",
          "height": 269
        },
        "outputId": "3169ac6c-e432-47d5-d50d-e5f996a319b0"
      },
      "source": [
        "plt.imshow(img.view((28,28)));"
      ],
      "execution_count": 59,
      "outputs": [
        {
          "output_type": "display_data",
          "data": {
            "image/png": "[encoded data removed]",
            "text/plain": [
              "<Figure size 432x288 with 1 Axes>"
            ]
          },
          "metadata": {
            "tags": []
          }
        }
      ]
    },
    {
      "cell_type": "markdown",
      "metadata": {
        "id": "jDQ6Xx3hlp0O",
        "colab_type": "text"
      },
      "source": [
        "**Initial python model**"
      ]
    },
    {
      "cell_type": "code",
      "metadata": {
        "id": "LOxl4ZfLlO61",
        "colab_type": "code",
        "colab": {}
      },
      "source": [
        ""
      ],
      "execution_count": 0,
      "outputs": []
    },
    {
      "cell_type": "code",
      "metadata": {
        "id": "YAime6VplySe",
        "colab_type": "code",
        "colab": {}
      },
      "source": [
        "weights = torch.randn(784,10)"
      ],
      "execution_count": 0,
      "outputs": []
    },
    {
      "cell_type": "code",
      "metadata": {
        "id": "SJuQ98dYl2Qk",
        "colab_type": "code",
        "colab": {}
      },
      "source": [
        "bias = torch.zeros(10)"
      ],
      "execution_count": 0,
      "outputs": []
    },
    {
      "cell_type": "markdown",
      "metadata": {
        "id": "ZFZa-q4bl8dm",
        "colab_type": "text"
      },
      "source": [
        "##[Matrix multiplication](http://matrixmultiplication.xyz/)"
      ]
    },
    {
      "cell_type": "code",
      "metadata": {
        "id": "jARuz3ARl4q_",
        "colab_type": "code",
        "colab": {}
      },
      "source": [
        "def matmul(a,b):\n",
        "    ar,ac = a.shape # n_rows * n_cols\n",
        "    br,bc = b.shape\n",
        "    assert ac==br\n",
        "    c = torch.zeros(ar, bc)\n",
        "    for i in range(ar):\n",
        "        for j in range(bc):\n",
        "            for k in range(ac): # or br\n",
        "                c[i,j] += a[i,k] * b[k,j]\n",
        "    return c"
      ],
      "execution_count": 0,
      "outputs": []
    },
    {
      "cell_type": "code",
      "metadata": {
        "id": "3iaF_cRRmDda",
        "colab_type": "code",
        "colab": {}
      },
      "source": [
        "m1 = x_valid[:150]\n",
        "m2 = weights"
      ],
      "execution_count": 0,
      "outputs": []
    },
    {
      "cell_type": "code",
      "metadata": {
        "id": "Y9YwMzTLmGml",
        "colab_type": "code",
        "colab": {
          "base_uri": "https://localhost:8080/",
          "height": 34
        },
        "outputId": "d5f78f9f-0bef-4764-a6f7-b84c1d2a36d8"
      },
      "source": [
        "m1.shape,m2.shape"
      ],
      "execution_count": 64,
      "outputs": [
        {
          "output_type": "execute_result",
          "data": {
            "text/plain": [
              "(torch.Size([150, 784]), torch.Size([784, 10]))"
            ]
          },
          "metadata": {
            "tags": []
          },
          "execution_count": 64
        }
      ]
    },
    {
      "cell_type": "code",
      "metadata": {
        "id": "dVe-16ErmMPO",
        "colab_type": "code",
        "colab": {
          "base_uri": "https://localhost:8080/",
          "height": 51
        },
        "outputId": "d348971d-1cc7-434d-e122-bae3a00f9c56"
      },
      "source": [
        "%time t1=matmul(m1, m2)"
      ],
      "execution_count": 65,
      "outputs": [
        {
          "output_type": "stream",
          "text": [
            "CPU times: user 20.8 s, sys: 6.45 ms, total: 20.8 s\n",
            "Wall time: 20.8 s\n"
          ],
          "name": "stdout"
        }
      ]
    },
    {
      "cell_type": "markdown",
      "metadata": {
        "id": "FOJYEkE_n7CN",
        "colab_type": "text"
      },
      "source": [
        "###Elementwise ops\n",
        "\n",
        "Operators (+,-,*,/,>,<,==)  are usually element-wise.\n",
        "\n",
        "Examples of element-wise operations:"
      ]
    },
    {
      "cell_type": "code",
      "metadata": {
        "id": "NtZgqiIPqfGT",
        "colab_type": "code",
        "colab": {
          "base_uri": "https://localhost:8080/",
          "height": 34
        },
        "outputId": "f3a4998a-cfd3-4d30-f1c2-f1b0020750a1"
      },
      "source": [
        "a = tensor([10., 6, -4])\n",
        "b = tensor([2., 8, 7])\n",
        "a,b"
      ],
      "execution_count": 66,
      "outputs": [
        {
          "output_type": "execute_result",
          "data": {
            "text/plain": [
              "(tensor([10.,  6., -4.]), tensor([2., 8., 7.]))"
            ]
          },
          "metadata": {
            "tags": []
          },
          "execution_count": 66
        }
      ]
    },
    {
      "cell_type": "code",
      "metadata": {
        "id": "cKQqVTP0qgXt",
        "colab_type": "code",
        "colab": {
          "base_uri": "https://localhost:8080/",
          "height": 34
        },
        "outputId": "bc334e60-2231-48e5-96d1-d43cd1fbfe09"
      },
      "source": [
        "a + b"
      ],
      "execution_count": 67,
      "outputs": [
        {
          "output_type": "execute_result",
          "data": {
            "text/plain": [
              "tensor([12., 14.,  3.])"
            ]
          },
          "metadata": {
            "tags": []
          },
          "execution_count": 67
        }
      ]
    },
    {
      "cell_type": "code",
      "metadata": {
        "id": "lvFlo1SDqqui",
        "colab_type": "code",
        "colab": {
          "base_uri": "https://localhost:8080/",
          "height": 34
        },
        "outputId": "0c554b3a-c89e-4664-b213-9a9419981f28"
      },
      "source": [
        "(a < b).float().mean()"
      ],
      "execution_count": 68,
      "outputs": [
        {
          "output_type": "execute_result",
          "data": {
            "text/plain": [
              "tensor(0.6667)"
            ]
          },
          "metadata": {
            "tags": []
          },
          "execution_count": 68
        }
      ]
    },
    {
      "cell_type": "code",
      "metadata": {
        "id": "_rhbDr5hn1DI",
        "colab_type": "code",
        "colab": {
          "base_uri": "https://localhost:8080/",
          "height": 68
        },
        "outputId": "bc7e23fa-f595-4dd6-86d4-ca7d531e3756"
      },
      "source": [
        "m = tensor([[1., 2, 3], [4,5,6], [7,8,9]]); m"
      ],
      "execution_count": 69,
      "outputs": [
        {
          "output_type": "execute_result",
          "data": {
            "text/plain": [
              "tensor([[1., 2., 3.],\n",
              "        [4., 5., 6.],\n",
              "        [7., 8., 9.]])"
            ]
          },
          "metadata": {
            "tags": []
          },
          "execution_count": 69
        }
      ]
    },
    {
      "cell_type": "code",
      "metadata": {
        "id": "jLLXgbsUmPXT",
        "colab_type": "code",
        "colab": {}
      },
      "source": [
        "def matmul(a,b):\n",
        "    ar,ac = a.shape\n",
        "    br,bc = b.shape\n",
        "    assert ac==br\n",
        "    c = torch.zeros(ar, bc)\n",
        "    for i in range(ar):\n",
        "        for j in range(bc):\n",
        "            # Any trailing \",:\" can be removed\n",
        "            c[i,j] = (a[i,:] * b[:,j]).sum()\n",
        "    return c"
      ],
      "execution_count": 0,
      "outputs": []
    },
    {
      "cell_type": "code",
      "metadata": {
        "id": "P8mZTZtGnkae",
        "colab_type": "code",
        "colab": {
          "base_uri": "https://localhost:8080/",
          "height": 51
        },
        "outputId": "bb2d2bc4-3f2b-4fb9-c1a1-0de9dd350561"
      },
      "source": [
        "%time t1=matmul(m1, m2)"
      ],
      "execution_count": 71,
      "outputs": [
        {
          "output_type": "stream",
          "text": [
            "CPU times: user 35.3 ms, sys: 951 µs, total: 36.2 ms\n",
            "Wall time: 38.8 ms\n"
          ],
          "name": "stdout"
        }
      ]
    },
    {
      "cell_type": "code",
      "metadata": {
        "id": "QBEsOP1tnoIr",
        "colab_type": "code",
        "colab": {
          "base_uri": "https://localhost:8080/",
          "height": 51
        },
        "outputId": "7d14966e-f2f0-41c7-f72f-c24b42566cf1"
      },
      "source": [
        "m1 = x_valid[:50000]\n",
        "m2 = weights\n",
        "%time t1=matmul(m1, m2)"
      ],
      "execution_count": 72,
      "outputs": [
        {
          "output_type": "stream",
          "text": [
            "CPU times: user 2.04 s, sys: 85 ms, total: 2.12 s\n",
            "Wall time: 2.12 s\n"
          ],
          "name": "stdout"
        }
      ]
    },
    {
      "cell_type": "code",
      "metadata": {
        "id": "0t80KAR_obXs",
        "colab_type": "code",
        "colab": {}
      },
      "source": [
        ""
      ],
      "execution_count": 0,
      "outputs": []
    },
    {
      "cell_type": "markdown",
      "metadata": {
        "id": "haMCQqN8pzGd",
        "colab_type": "text"
      },
      "source": [
        "### Broadcasting"
      ]
    },
    {
      "cell_type": "code",
      "metadata": {
        "id": "dfhGVv6HqFRp",
        "colab_type": "code",
        "colab": {
          "base_uri": "https://localhost:8080/",
          "height": 34
        },
        "outputId": "e3f283e2-159e-4d89-d674-b4c7bcf412c4"
      },
      "source": [
        "a"
      ],
      "execution_count": 73,
      "outputs": [
        {
          "output_type": "execute_result",
          "data": {
            "text/plain": [
              "tensor([10.,  6., -4.])"
            ]
          },
          "metadata": {
            "tags": []
          },
          "execution_count": 73
        }
      ]
    },
    {
      "cell_type": "code",
      "metadata": {
        "id": "uwV--NlfqHzj",
        "colab_type": "code",
        "colab": {
          "base_uri": "https://localhost:8080/",
          "height": 68
        },
        "outputId": "39fb852b-dada-4637-ce8f-b998cacf5fb4"
      },
      "source": [
        "m"
      ],
      "execution_count": 74,
      "outputs": [
        {
          "output_type": "execute_result",
          "data": {
            "text/plain": [
              "tensor([[1., 2., 3.],\n",
              "        [4., 5., 6.],\n",
              "        [7., 8., 9.]])"
            ]
          },
          "metadata": {
            "tags": []
          },
          "execution_count": 74
        }
      ]
    },
    {
      "cell_type": "code",
      "metadata": {
        "id": "DBlX77e1q5yL",
        "colab_type": "code",
        "colab": {
          "base_uri": "https://localhost:8080/",
          "height": 68
        },
        "outputId": "df6edf5e-8874-4d48-bc36-bf65770d25c1"
      },
      "source": [
        "2*m"
      ],
      "execution_count": 75,
      "outputs": [
        {
          "output_type": "execute_result",
          "data": {
            "text/plain": [
              "tensor([[ 2.,  4.,  6.],\n",
              "        [ 8., 10., 12.],\n",
              "        [14., 16., 18.]])"
            ]
          },
          "metadata": {
            "tags": []
          },
          "execution_count": 75
        }
      ]
    },
    {
      "cell_type": "code",
      "metadata": {
        "id": "P9LfxDT0p1Ug",
        "colab_type": "code",
        "colab": {}
      },
      "source": [
        "def matmul(a,b):\n",
        "    ar,ac = a.shape\n",
        "    br,bc = b.shape\n",
        "    assert ac==br\n",
        "    c = torch.zeros(ar, bc)\n",
        "    for i in range(ar):\n",
        "#       c[i,j] = (a[i,:]          * b[:,j]).sum() # previous\n",
        "        c[i]   = (a[i  ].unsqueeze(-1) * b).sum(dim=0)\n",
        "    return c"
      ],
      "execution_count": 0,
      "outputs": []
    },
    {
      "cell_type": "code",
      "metadata": {
        "id": "aNE1yfUsp4xt",
        "colab_type": "code",
        "colab": {
          "base_uri": "https://localhost:8080/",
          "height": 51
        },
        "outputId": "e3ebcb2c-dbab-4b19-c183-ea7ef4ba8058"
      },
      "source": [
        "m1 = x_valid[:50000]\n",
        "m2 = weights\n",
        "%time t1=matmul(m1, m2)"
      ],
      "execution_count": 77,
      "outputs": [
        {
          "output_type": "stream",
          "text": [
            "CPU times: user 428 ms, sys: 7.02 ms, total: 435 ms\n",
            "Wall time: 440 ms\n"
          ],
          "name": "stdout"
        }
      ]
    },
    {
      "cell_type": "markdown",
      "metadata": {
        "id": "glHwGL7qrYnc",
        "colab_type": "text"
      },
      "source": [
        "This following was done with GPU\n",
        "\n",
        "\n",
        "\n",
        "```\n",
        "CPU times: user 423 ms, sys: 6.95 ms, total: 430 ms\n",
        "Wall time: 432 ms\n",
        "```\n",
        "\n",
        "The following was done with TPU (Seems slower)\n",
        "\n",
        "```\n",
        "CPU times: user 504 ms, sys: 11.9 ms, total: 515 ms\n",
        "Wall time: 522 ms\n",
        "```\n",
        "\n"
      ]
    },
    {
      "cell_type": "code",
      "metadata": {
        "id": "UT7ITu2vp582",
        "colab_type": "code",
        "colab": {}
      },
      "source": [
        ""
      ],
      "execution_count": 0,
      "outputs": []
    }
  ]
}