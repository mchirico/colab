{
  "nbformat": 4,
  "nbformat_minor": 0,
  "metadata": {
    "colab": {
      "name": "devLibFastAI.ipynb",
      "version": "0.3.2",
      "provenance": [],
      "collapsed_sections": [],
      "include_colab_link": true
    },
    "kernelspec": {
      "name": "python3",
      "display_name": "Python 3"
    },
    "accelerator": "GPU"
  },
  "cells": [
    {
      "cell_type": "markdown",
      "metadata": {
        "id": "view-in-github",
        "colab_type": "text"
      },
      "source": [
        "<a href=\"https://colab.research.google.com/github/mchirico/colab/blob/master/devLibFastAI.ipynb\" target=\"_parent\"><img src=\"https://colab.research.google.com/assets/colab-badge.svg\" alt=\"Open In Colab\"/></a>"
      ]
    },
    {
      "cell_type": "markdown",
      "metadata": {
        "id": "qac1U8ibSYXx",
        "colab_type": "text"
      },
      "source": [
        "[Lesson 8](https://course.fast.ai/videos/?lesson=8)"
      ]
    },
    {
      "cell_type": "code",
      "metadata": {
        "id": "XBBLy_SSGrdB",
        "colab_type": "code",
        "colab": {
          "base_uri": "https://localhost:8080/",
          "height": 51
        },
        "outputId": "38331e1f-4966-48b8-e0e4-6ca2d5e1cbab"
      },
      "source": [
        "!curl -s https://course.fast.ai/setup/colab | bash"
      ],
      "execution_count": 106,
      "outputs": [
        {
          "output_type": "stream",
          "text": [
            "Updating fastai...\n",
            "Done.\n"
          ],
          "name": "stdout"
        }
      ]
    },
    {
      "cell_type": "code",
      "metadata": {
        "id": "bBH9fsxXJs7e",
        "colab_type": "code",
        "colab": {
          "base_uri": "https://localhost:8080/",
          "height": 51
        },
        "outputId": "8f1e9fd4-afac-42d4-d9fa-694953813d5c"
      },
      "source": [
        "!pip install fire"
      ],
      "execution_count": 107,
      "outputs": [
        {
          "output_type": "stream",
          "text": [
            "Requirement already satisfied: fire in /usr/local/lib/python3.6/dist-packages (0.1.3)\n",
            "Requirement already satisfied: six in /usr/local/lib/python3.6/dist-packages (from fire) (1.12.0)\n"
          ],
          "name": "stdout"
        }
      ]
    },
    {
      "cell_type": "code",
      "metadata": {
        "id": "d5Ao9D_3G8JE",
        "colab_type": "code",
        "colab": {}
      },
      "source": [
        "from fastai import *\n",
        "from fastai.vision import *\n",
        "from fastai.metrics import error_rate"
      ],
      "execution_count": 0,
      "outputs": []
    },
    {
      "cell_type": "code",
      "metadata": {
        "id": "J175QXzhG4-Q",
        "colab_type": "code",
        "colab": {}
      },
      "source": [
        "from google.colab import drive\n",
        "drive.mount('/content/gdrive', force_remount=True)\n",
        "root_dir = \"/content/gdrive/My Drive/\"\n",
        "base_dir = root_dir + 'fastai-v3/'"
      ],
      "execution_count": 0,
      "outputs": []
    },
    {
      "cell_type": "code",
      "metadata": {
        "id": "6X9lZZV3HhmV",
        "colab_type": "code",
        "colab": {}
      },
      "source": [
        "!mkdir -p '/content/gdrive/My Drive/fastai-v3/lib/'\n",
        "!mkdir -p exp\n",
        "!mkdir -p '/content/gdrive/My Drive/Colab Notebooks/exp/'"
      ],
      "execution_count": 0,
      "outputs": []
    },
    {
      "cell_type": "code",
      "metadata": {
        "id": "opEOMlLEKZaz",
        "colab_type": "code",
        "colab": {
          "base_uri": "https://localhost:8080/",
          "height": 51
        },
        "outputId": "876c2a52-6386-4015-e276-f093a3239b14"
      },
      "source": [
        "!ls '/content/gdrive/My Drive/Colab Notebooks/devLibFastAI.ipynb'\n",
        "\n",
        "# Note, we must put inside quotes\n",
        "prog = \"'/content/gdrive/My Drive/Colab Notebooks/devLibFastAI.ipynb'\"\n",
        "# And we get the same thing...\n",
        "\n",
        "!ls ${prog}\n"
      ],
      "execution_count": 110,
      "outputs": [
        {
          "output_type": "stream",
          "text": [
            "'/content/gdrive/My Drive/Colab Notebooks/devLibFastAI.ipynb'\n",
            "'/content/gdrive/My Drive/Colab Notebooks/devLibFastAI.ipynb'\n"
          ],
          "name": "stdout"
        }
      ]
    },
    {
      "cell_type": "code",
      "metadata": {
        "id": "0kZuqU_AJPsC",
        "colab_type": "code",
        "colab": {
          "base_uri": "https://localhost:8080/",
          "height": 34
        },
        "outputId": "52987a91-71ec-426e-c9ab-5556c57f1960"
      },
      "source": [
        "!curl -s 'https://raw.githubusercontent.com/fastai/course-v3/master/nbs/dl2/notebook2script.py' -o '/content/gdrive/My Drive/fastai-v3/lib/notebook2script.py'\n",
        "!chmod +x '/content/gdrive/My Drive/fastai-v3/lib/notebook2script.py'\n",
        "!ls -l '/content/gdrive/My Drive/fastai-v3/lib/notebook2script.py'\n",
        "\n",
        "notebook2script = \"'/content/gdrive/My Drive/fastai-v3/lib/notebook2script.py'\""
      ],
      "execution_count": 111,
      "outputs": [
        {
          "output_type": "stream",
          "text": [
            "-rwx------ 1 root root 2951 Jul  3 02:23 '/content/gdrive/My Drive/fastai-v3/lib/notebook2script.py'\n"
          ],
          "name": "stdout"
        }
      ]
    },
    {
      "cell_type": "code",
      "metadata": {
        "id": "zUf3Wz1qPI90",
        "colab_type": "code",
        "colab": {
          "base_uri": "https://localhost:8080/",
          "height": 34
        },
        "outputId": "50dfb538-36d4-4ef5-cff9-12007a98046c"
      },
      "source": [
        "!ls '/content/gdrive/My Drive/fastai-v3/lib/notebook2script.py'"
      ],
      "execution_count": 112,
      "outputs": [
        {
          "output_type": "stream",
          "text": [
            "'/content/gdrive/My Drive/fastai-v3/lib/notebook2script.py'\n"
          ],
          "name": "stdout"
        }
      ]
    },
    {
      "cell_type": "code",
      "metadata": {
        "id": "_y_0YjvrSlEZ",
        "colab_type": "code",
        "colab": {}
      },
      "source": [
        "#export\n",
        "TEST='test'"
      ],
      "execution_count": 0,
      "outputs": []
    },
    {
      "cell_type": "code",
      "metadata": {
        "id": "15dBkDwrI4ON",
        "colab_type": "code",
        "colab": {
          "base_uri": "https://localhost:8080/",
          "height": 71
        },
        "outputId": "80d526f1-4475-44cb-b5e6-aca837f188d0"
      },
      "source": [
        "!ls ${prog}\n",
        "!${notebook2script} ${prog}\n"
      ],
      "execution_count": 114,
      "outputs": [
        {
          "output_type": "stream",
          "text": [
            "'/content/gdrive/My Drive/Colab Notebooks/devLibFastAI.ipynb'\n",
            "Converted /content/gdrive/My Drive/Colab Notebooks/devLibFastAI.ipynb to /content/gdrive/My Drive/Colab Notebooks/exp/nb_devLibFastAI.py\n"
          ],
          "name": "stdout"
        }
      ]
    },
    {
      "cell_type": "code",
      "metadata": {
        "id": "gx19xSlsS7EZ",
        "colab_type": "code",
        "colab": {
          "base_uri": "https://localhost:8080/",
          "height": 289
        },
        "outputId": "434ecbd0-f88d-4650-8f1c-4c40260b483b"
      },
      "source": [
        "!cat '/content/gdrive/My Drive/Colab Notebooks/exp/nb_devLibFastAI.py'"
      ],
      "execution_count": 126,
      "outputs": [
        {
          "output_type": "stream",
          "text": [
            "\n",
            "#################################################\n",
            "### THIS FILE WAS AUTOGENERATED! DO NOT EDIT! ###\n",
            "#################################################\n",
            "# file to edit: dev_nb/devLibFastAI.ipynb\n",
            "\n",
            "TEST='test'\n",
            "\n",
            "\n",
            "import operator\n",
            "\n",
            "def test(a,b,cmp,cname=None):\n",
            "  if cname is None: cname = cmp.__cname__\n",
            "  assert cmp(a,b),f\"{cname}:\\n{a}\\n{b}\"\n",
            "\n",
            "def test_eq(a,b): test(a,b,operator.eq,'==')\n"
          ],
          "name": "stdout"
        }
      ]
    },
    {
      "cell_type": "code",
      "metadata": {
        "id": "-_dmECKNpZg2",
        "colab_type": "code",
        "colab": {}
      },
      "source": [
        "import sys\n",
        "sys.path.append('/content/gdrive/My Drive/Colab Notebooks/exp')\n",
        "from exp.nb_devLibFastAI import *"
      ],
      "execution_count": 0,
      "outputs": []
    },
    {
      "cell_type": "code",
      "metadata": {
        "id": "ANLhiGGDp8Bt",
        "colab_type": "code",
        "colab": {}
      },
      "source": [
        "\n",
        "test_eq(TEST,'test')"
      ],
      "execution_count": 0,
      "outputs": []
    },
    {
      "cell_type": "code",
      "metadata": {
        "id": "Q-mwZgc4phC6",
        "colab_type": "code",
        "colab": {}
      },
      "source": [
        ""
      ],
      "execution_count": 0,
      "outputs": []
    },
    {
      "cell_type": "code",
      "metadata": {
        "id": "YMDynXMXVnGn",
        "colab_type": "code",
        "colab": {}
      },
      "source": [
        ""
      ],
      "execution_count": 0,
      "outputs": []
    },
    {
      "cell_type": "code",
      "metadata": {
        "id": "QaHPAbfVV4SM",
        "colab_type": "code",
        "colab": {
          "base_uri": "https://localhost:8080/",
          "height": 34
        },
        "outputId": "5b86e48c-be9d-446d-cc0e-8bfea6e5c534"
      },
      "source": [
        "\n"
      ],
      "execution_count": 105,
      "outputs": [
        {
          "output_type": "stream",
          "text": [
            "nb_devLibFastAI.py  __pycache__\n"
          ],
          "name": "stdout"
        }
      ]
    }
  ]
}