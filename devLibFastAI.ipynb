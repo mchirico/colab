{
  "nbformat": 4,
  "nbformat_minor": 0,
  "metadata": {
    "colab": {
      "name": "devLibFastAI.ipynb",
      "version": "0.3.2",
      "provenance": [],
      "collapsed_sections": [],
      "include_colab_link": true
    },
    "kernelspec": {
      "name": "python3",
      "display_name": "Python 3"
    },
    "accelerator": "GPU"
  },
  "cells": [
    {
      "cell_type": "markdown",
      "metadata": {
        "id": "view-in-github",
        "colab_type": "text"
      },
      "source": [
        "<a href=\"https://colab.research.google.com/github/mchirico/colab/blob/master/devLibFastAI.ipynb\" target=\"_parent\"><img src=\"https://colab.research.google.com/assets/colab-badge.svg\" alt=\"Open In Colab\"/></a>"
      ]
    },
    {
      "cell_type": "markdown",
      "metadata": {
        "id": "qac1U8ibSYXx",
        "colab_type": "text"
      },
      "source": [
        "[Lesson 8](https://course.fast.ai/videos/?lesson=8)"
      ]
    },
    {
      "cell_type": "code",
      "metadata": {
        "id": "XBBLy_SSGrdB",
        "colab_type": "code",
        "outputId": "764167b4-b8d3-42e8-82f5-728fe8f395d5",
        "colab": {
          "base_uri": "https://localhost:8080/",
          "height": 51
        }
      },
      "source": [
        "!curl -s https://course.fast.ai/setup/colab | bash"
      ],
      "execution_count": 0,
      "outputs": [
        {
          "output_type": "stream",
          "text": [
            "Updating fastai...\n",
            "Done.\n"
          ],
          "name": "stdout"
        }
      ]
    },
    {
      "cell_type": "code",
      "metadata": {
        "id": "8cWiFSiiIs9A",
        "colab_type": "code",
        "colab": {}
      },
      "source": [
        "import sys\n",
        "sys.path.append('/content/gdrive/My Drive/Colab Notebooks/exp')"
      ],
      "execution_count": 0,
      "outputs": []
    },
    {
      "cell_type": "code",
      "metadata": {
        "id": "bBH9fsxXJs7e",
        "colab_type": "code",
        "outputId": "145fceff-25fb-4df0-abbd-145e52c1ac4c",
        "colab": {
          "base_uri": "https://localhost:8080/",
          "height": 51
        }
      },
      "source": [
        "!pip install fire"
      ],
      "execution_count": 0,
      "outputs": [
        {
          "output_type": "stream",
          "text": [
            "Requirement already satisfied: fire in /usr/local/lib/python3.6/dist-packages (0.1.3)\n",
            "Requirement already satisfied: six in /usr/local/lib/python3.6/dist-packages (from fire) (1.12.0)\n"
          ],
          "name": "stdout"
        }
      ]
    },
    {
      "cell_type": "code",
      "metadata": {
        "id": "d5Ao9D_3G8JE",
        "colab_type": "code",
        "colab": {}
      },
      "source": [
        "from fastai import *\n",
        "from fastai.vision import *\n",
        "from fastai.metrics import error_rate"
      ],
      "execution_count": 0,
      "outputs": []
    },
    {
      "cell_type": "code",
      "metadata": {
        "id": "J175QXzhG4-Q",
        "colab_type": "code",
        "outputId": "22b72f61-fd6b-457d-ff65-d96a6cfffd0d",
        "colab": {
          "base_uri": "https://localhost:8080/",
          "height": 34
        }
      },
      "source": [
        "from google.colab import drive\n",
        "drive.mount('/content/gdrive', force_remount=True)\n",
        "root_dir = \"/content/gdrive/My Drive/\"\n",
        "base_dir = root_dir + 'fastai-v3/'"
      ],
      "execution_count": 0,
      "outputs": [
        {
          "output_type": "stream",
          "text": [
            "Mounted at /content/gdrive\n"
          ],
          "name": "stdout"
        }
      ]
    },
    {
      "cell_type": "code",
      "metadata": {
        "id": "6X9lZZV3HhmV",
        "colab_type": "code",
        "colab": {}
      },
      "source": [
        "!mkdir -p '/content/gdrive/My Drive/fastai-v3/lib/'\n",
        "!mkdir -p '/content/gdrive/My Drive/Colab Notebooks/exp/'\n",
        "!ln -s '/content/gdrive/My Drive/Colab Notebooks/exp/' exp"
      ],
      "execution_count": 0,
      "outputs": []
    },
    {
      "cell_type": "code",
      "metadata": {
        "id": "opEOMlLEKZaz",
        "colab_type": "code",
        "outputId": "e55dc2b4-d309-414e-c032-1f8186dd04b4",
        "colab": {
          "base_uri": "https://localhost:8080/",
          "height": 51
        }
      },
      "source": [
        "!ls '/content/gdrive/My Drive/Colab Notebooks/devLibFastAI.ipynb'\n",
        "\n",
        "# Note, we must put inside quotes\n",
        "prog = \"'/content/gdrive/My Drive/Colab Notebooks/devLibFastAI.ipynb'\"\n",
        "# And we get the same thing...\n",
        "\n",
        "!ls ${prog}\n"
      ],
      "execution_count": 0,
      "outputs": [
        {
          "output_type": "stream",
          "text": [
            "'/content/gdrive/My Drive/Colab Notebooks/devLibFastAI.ipynb'\n",
            "'/content/gdrive/My Drive/Colab Notebooks/devLibFastAI.ipynb'\n"
          ],
          "name": "stdout"
        }
      ]
    },
    {
      "cell_type": "code",
      "metadata": {
        "id": "0kZuqU_AJPsC",
        "colab_type": "code",
        "outputId": "de9e63c9-8241-4c19-ab3b-6a5b6583a08c",
        "colab": {
          "base_uri": "https://localhost:8080/",
          "height": 34
        }
      },
      "source": [
        "!curl -s 'https://raw.githubusercontent.com/fastai/course-v3/master/nbs/dl2/notebook2script.py' -o '/content/gdrive/My Drive/fastai-v3/lib/notebook2script.py'\n",
        "!chmod +x '/content/gdrive/My Drive/fastai-v3/lib/notebook2script.py'\n",
        "!ls -l '/content/gdrive/My Drive/fastai-v3/lib/notebook2script.py'\n",
        "\n",
        "notebook2script = \"'/content/gdrive/My Drive/fastai-v3/lib/notebook2script.py'\""
      ],
      "execution_count": 0,
      "outputs": [
        {
          "output_type": "stream",
          "text": [
            "-rwx------ 1 root root 2951 Jul  3 14:14 '/content/gdrive/My Drive/fastai-v3/lib/notebook2script.py'\n"
          ],
          "name": "stdout"
        }
      ]
    },
    {
      "cell_type": "code",
      "metadata": {
        "id": "zUf3Wz1qPI90",
        "colab_type": "code",
        "outputId": "56802256-2ade-46d7-8b33-ddbb1851eef3",
        "colab": {
          "base_uri": "https://localhost:8080/",
          "height": 34
        }
      },
      "source": [
        "!ls '/content/gdrive/My Drive/fastai-v3/lib/notebook2script.py'"
      ],
      "execution_count": 0,
      "outputs": [
        {
          "output_type": "stream",
          "text": [
            "'/content/gdrive/My Drive/fastai-v3/lib/notebook2script.py'\n"
          ],
          "name": "stdout"
        }
      ]
    },
    {
      "cell_type": "code",
      "metadata": {
        "id": "_y_0YjvrSlEZ",
        "colab_type": "code",
        "colab": {}
      },
      "source": [
        "#export\n",
        "TEST='test'\n",
        "\n",
        "import operator\n",
        "\n",
        "def test(a,b,cmp,cname=None):\n",
        "  if cname is None: cname = cmp.__cname__\n",
        "  assert cmp(a,b),f\"{cname}:\\n{a}\\n{b}\"\n",
        "\n",
        "def test_eq(a,b): test(a,b,operator.eq,'==')\n"
      ],
      "execution_count": 0,
      "outputs": []
    },
    {
      "cell_type": "code",
      "metadata": {
        "id": "15dBkDwrI4ON",
        "colab_type": "code",
        "outputId": "7dede537-4d53-462d-ce81-f87036f5f279",
        "colab": {
          "base_uri": "https://localhost:8080/",
          "height": 71
        }
      },
      "source": [
        "!ls ${prog}\n",
        "!${notebook2script} ${prog}\n"
      ],
      "execution_count": 0,
      "outputs": [
        {
          "output_type": "stream",
          "text": [
            "'/content/gdrive/My Drive/Colab Notebooks/devLibFastAI.ipynb'\n",
            "Converted /content/gdrive/My Drive/Colab Notebooks/devLibFastAI.ipynb to /content/gdrive/My Drive/Colab Notebooks/exp/nb_devLibFastAI.py\n"
          ],
          "name": "stdout"
        }
      ]
    },
    {
      "cell_type": "code",
      "metadata": {
        "id": "gx19xSlsS7EZ",
        "colab_type": "code",
        "colab": {}
      },
      "source": [
        "!cat '/content/gdrive/My Drive/Colab Notebooks/exp/nb_devLibFastAI.py'"
      ],
      "execution_count": 0,
      "outputs": []
    },
    {
      "cell_type": "code",
      "metadata": {
        "id": "-_dmECKNpZg2",
        "colab_type": "code",
        "colab": {}
      },
      "source": [
        "\n",
        "from exp.nb_devLibFastAI import *\n",
        "\n",
        "\n",
        "\n",
        "test_eq(TEST,'test')"
      ],
      "execution_count": 0,
      "outputs": []
    },
    {
      "cell_type": "code",
      "metadata": {
        "id": "ANLhiGGDp8Bt",
        "colab_type": "code",
        "colab": {}
      },
      "source": [
        "# This should fail... proves test is working.\n",
        "test_eq(TEST,'testBroken')\n"
      ],
      "execution_count": 0,
      "outputs": []
    },
    {
      "cell_type": "code",
      "metadata": {
        "id": "q3Ympd4BFT9s",
        "colab_type": "code",
        "colab": {}
      },
      "source": [
        "%load_ext autoreload\n",
        "%autoreload 2\n",
        "\n",
        "%matplotlib inline"
      ],
      "execution_count": 0,
      "outputs": []
    },
    {
      "cell_type": "code",
      "metadata": {
        "id": "Q-mwZgc4phC6",
        "colab_type": "code",
        "colab": {}
      },
      "source": [
        "#export\n",
        "from pathlib import Path\n",
        "from IPython.core.debugger import set_trace\n",
        "from fastai import datasets\n",
        "import pickle, gzip, math, torch, matplotlib as mpl\n",
        "import matplotlib.pyplot as plt\n",
        "from torch import tensor\n",
        "\n",
        "MNIST_URL='http://deeplearning.net/data/mnist/mnist.pkl'"
      ],
      "execution_count": 0,
      "outputs": []
    },
    {
      "cell_type": "code",
      "metadata": {
        "id": "QaHPAbfVV4SM",
        "colab_type": "code",
        "colab": {}
      },
      "source": [
        "\n"
      ],
      "execution_count": 0,
      "outputs": []
    }
  ]
}