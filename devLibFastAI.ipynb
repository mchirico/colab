{
  "nbformat": 4,
  "nbformat_minor": 0,
  "metadata": {
    "colab": {
      "name": "devLibFastAI.ipynb",
      "version": "0.3.2",
      "provenance": [],
      "collapsed_sections": [],
      "include_colab_link": true
    },
    "kernelspec": {
      "name": "python3",
      "display_name": "Python 3"
    },
    "accelerator": "GPU"
  },
  "cells": [
    {
      "cell_type": "markdown",
      "metadata": {
        "id": "view-in-github",
        "colab_type": "text"
      },
      "source": [
        "<a href=\"https://colab.research.google.com/github/mchirico/colab/blob/master/devLibFastAI.ipynb\" target=\"_parent\"><img src=\"https://colab.research.google.com/assets/colab-badge.svg\" alt=\"Open In Colab\"/></a>"
      ]
    },
    {
      "cell_type": "markdown",
      "metadata": {
        "id": "qac1U8ibSYXx",
        "colab_type": "text"
      },
      "source": [
        "[Lesson 8](https://course.fast.ai/videos/?lesson=8)"
      ]
    },
    {
      "cell_type": "code",
      "metadata": {
        "id": "XBBLy_SSGrdB",
        "colab_type": "code",
        "colab": {
          "base_uri": "https://localhost:8080/",
          "height": 51
        },
        "outputId": "1ea2e24c-f5d2-4cf2-b6f4-d83d3969b393"
      },
      "source": [
        "!curl -s https://course.fast.ai/setup/colab | bash"
      ],
      "execution_count": 15,
      "outputs": [
        {
          "output_type": "stream",
          "text": [
            "Updating fastai...\n",
            "Done.\n"
          ],
          "name": "stdout"
        }
      ]
    },
    {
      "cell_type": "code",
      "metadata": {
        "id": "bBH9fsxXJs7e",
        "colab_type": "code",
        "colab": {
          "base_uri": "https://localhost:8080/",
          "height": 190
        },
        "outputId": "a54a6983-6cf2-4e06-d38d-07428887e368"
      },
      "source": [
        "!pip install fire"
      ],
      "execution_count": 18,
      "outputs": [
        {
          "output_type": "stream",
          "text": [
            "Collecting fire\n",
            "  Downloading https://files.pythonhosted.org/packages/5a/b7/205702f348aab198baecd1d8344a90748cb68f53bdcd1cc30cbc08e47d3e/fire-0.1.3.tar.gz\n",
            "Requirement already satisfied: six in /usr/local/lib/python3.6/dist-packages (from fire) (1.12.0)\n",
            "Building wheels for collected packages: fire\n",
            "  Building wheel for fire (setup.py) ... \u001b[?25l\u001b[?25hdone\n",
            "  Stored in directory: /root/.cache/pip/wheels/2a/1a/4d/6b30377c3051e76559d1185c1dbbfff15aed31f87acdd14c22\n",
            "Successfully built fire\n",
            "Installing collected packages: fire\n",
            "Successfully installed fire-0.1.3\n"
          ],
          "name": "stdout"
        }
      ]
    },
    {
      "cell_type": "code",
      "metadata": {
        "id": "d5Ao9D_3G8JE",
        "colab_type": "code",
        "colab": {}
      },
      "source": [
        "from fastai import *\n",
        "from fastai.vision import *\n",
        "from fastai.metrics import error_rate"
      ],
      "execution_count": 0,
      "outputs": []
    },
    {
      "cell_type": "code",
      "metadata": {
        "id": "J175QXzhG4-Q",
        "colab_type": "code",
        "colab": {}
      },
      "source": [
        "from google.colab import drive\n",
        "drive.mount('/content/gdrive', force_remount=True)\n",
        "root_dir = \"/content/gdrive/My Drive/\"\n",
        "base_dir = root_dir + 'fastai-v3/'"
      ],
      "execution_count": 0,
      "outputs": []
    },
    {
      "cell_type": "code",
      "metadata": {
        "id": "6X9lZZV3HhmV",
        "colab_type": "code",
        "colab": {}
      },
      "source": [
        "!mkdir -p '/content/gdrive/My Drive/fastai-v3/lib/'\n",
        "!mkdir -p exp\n",
        "!mkdir -p '/content/gdrive/My Drive/Colab Notebooks/exp/'"
      ],
      "execution_count": 0,
      "outputs": []
    },
    {
      "cell_type": "code",
      "metadata": {
        "id": "opEOMlLEKZaz",
        "colab_type": "code",
        "colab": {
          "base_uri": "https://localhost:8080/",
          "height": 51
        },
        "outputId": "73d9cae6-abb8-46ad-cfc5-90fa1012a3e4"
      },
      "source": [
        "!ls '/content/gdrive/My Drive/Colab Notebooks/devLibFastAI.ipynb'\n",
        "\n",
        "# Note, we must put inside quotes\n",
        "prog = \"'/content/gdrive/My Drive/Colab Notebooks/devLibFastAI.ipynb'\"\n",
        "# And we get the same thing...\n",
        "\n",
        "!ls ${prog}\n"
      ],
      "execution_count": 38,
      "outputs": [
        {
          "output_type": "stream",
          "text": [
            "'/content/gdrive/My Drive/Colab Notebooks/devLibFastAI.ipynb'\n",
            "'/content/gdrive/My Drive/Colab Notebooks/devLibFastAI.ipynb'\n"
          ],
          "name": "stdout"
        }
      ]
    },
    {
      "cell_type": "code",
      "metadata": {
        "id": "0kZuqU_AJPsC",
        "colab_type": "code",
        "colab": {
          "base_uri": "https://localhost:8080/",
          "height": 34
        },
        "outputId": "e8e6e53a-5704-419f-824c-72addfcfbcdf"
      },
      "source": [
        "!curl -s 'https://raw.githubusercontent.com/fastai/course-v3/master/nbs/dl2/notebook2script.py' -o '/content/gdrive/My Drive/fastai-v3/lib/notebook2script.py'\n",
        "!chmod +x '/content/gdrive/My Drive/fastai-v3/lib/notebook2script.py'\n",
        "!ls -l '/content/gdrive/My Drive/fastai-v3/lib/notebook2script.py'\n",
        "\n",
        "notebook2script = \"'/content/gdrive/My Drive/fastai-v3/lib/notebook2script.py'\""
      ],
      "execution_count": 57,
      "outputs": [
        {
          "output_type": "stream",
          "text": [
            "-rwx------ 1 root root 2951 Jul  3 00:41 '/content/gdrive/My Drive/fastai-v3/lib/notebook2script.py'\n"
          ],
          "name": "stdout"
        }
      ]
    },
    {
      "cell_type": "code",
      "metadata": {
        "id": "zUf3Wz1qPI90",
        "colab_type": "code",
        "colab": {
          "base_uri": "https://localhost:8080/",
          "height": 34
        },
        "outputId": "80ebddcf-beb2-41dd-91a1-02498cf52ec9"
      },
      "source": [
        "!ls '/content/gdrive/My Drive/fastai-v3/lib/notebook2script.py'"
      ],
      "execution_count": 58,
      "outputs": [
        {
          "output_type": "stream",
          "text": [
            "'/content/gdrive/My Drive/fastai-v3/lib/notebook2script.py'\n"
          ],
          "name": "stdout"
        }
      ]
    },
    {
      "cell_type": "code",
      "metadata": {
        "id": "_y_0YjvrSlEZ",
        "colab_type": "code",
        "colab": {}
      },
      "source": [
        "#export\n",
        "TEST='test'"
      ],
      "execution_count": 0,
      "outputs": []
    },
    {
      "cell_type": "code",
      "metadata": {
        "id": "15dBkDwrI4ON",
        "colab_type": "code",
        "colab": {
          "base_uri": "https://localhost:8080/",
          "height": 71
        },
        "outputId": "2fe6d6dd-1b82-4adf-d887-35f29fdb6d90"
      },
      "source": [
        "!ls ${prog}\n",
        "!${notebook2script} ${prog}\n"
      ],
      "execution_count": 67,
      "outputs": [
        {
          "output_type": "stream",
          "text": [
            "'/content/gdrive/My Drive/Colab Notebooks/devLibFastAI.ipynb'\n",
            "Converted /content/gdrive/My Drive/Colab Notebooks/devLibFastAI.ipynb to /content/gdrive/My Drive/Colab Notebooks/exp/nb_devLibFastAI.py\n"
          ],
          "name": "stdout"
        }
      ]
    },
    {
      "cell_type": "code",
      "metadata": {
        "id": "gx19xSlsS7EZ",
        "colab_type": "code",
        "colab": {
          "base_uri": "https://localhost:8080/",
          "height": 136
        },
        "outputId": "39d92718-7f17-4b9f-e01d-b944ad4b7643"
      },
      "source": [
        "!cat '/content/gdrive/My Drive/Colab Notebooks/exp/nb_devLibFastAI.py'"
      ],
      "execution_count": 66,
      "outputs": [
        {
          "output_type": "stream",
          "text": [
            "\n",
            "#################################################\n",
            "### THIS FILE WAS AUTOGENERATED! DO NOT EDIT! ###\n",
            "#################################################\n",
            "# file to edit: dev_nb/devLibFastAI.ipynb\n",
            "\n",
            "TEST='test'"
          ],
          "name": "stdout"
        }
      ]
    },
    {
      "cell_type": "code",
      "metadata": {
        "id": "OZYkkBqlTh7X",
        "colab_type": "code",
        "colab": {}
      },
      "source": [
        "#export\n",
        "\n",
        "import operator\n",
        "\n",
        "def test(a,b,cmp,cname=None):\n",
        "  if cname is None: cname = cmp.__cname__\n",
        "  assert cmp(a,b),f\"{cname}:\\n{a}\\n{b}\"  \n",
        "\n",
        "def test_eq(a,b): test(a,b,operator.eq,'==')\n"
      ],
      "execution_count": 0,
      "outputs": []
    },
    {
      "cell_type": "code",
      "metadata": {
        "id": "f_q_ki5jUsIw",
        "colab_type": "code",
        "colab": {
          "base_uri": "https://localhost:8080/",
          "height": 71
        },
        "outputId": "0944812f-e475-40e9-cac6-291dffee540b"
      },
      "source": [
        "!ls ${prog}\n",
        "!${notebook2script} ${prog}\n"
      ],
      "execution_count": 94,
      "outputs": [
        {
          "output_type": "stream",
          "text": [
            "'/content/gdrive/My Drive/Colab Notebooks/devLibFastAI.ipynb'\n",
            "Converted /content/gdrive/My Drive/Colab Notebooks/devLibFastAI.ipynb to /content/gdrive/My Drive/Colab Notebooks/exp/nb_devLibFastAI.py\n"
          ],
          "name": "stdout"
        }
      ]
    },
    {
      "cell_type": "code",
      "metadata": {
        "id": "EibLfDMjUmGL",
        "colab_type": "code",
        "colab": {
          "base_uri": "https://localhost:8080/",
          "height": 289
        },
        "outputId": "6b18b159-a83b-496c-a9ce-4ed55706d8ef"
      },
      "source": [
        "!cat '/content/gdrive/My Drive/Colab Notebooks/exp/nb_devLibFastAI.py'\n",
        "!cp '/content/gdrive/My Drive/Colab Notebooks/exp/nb_devLibFastAI.py' exp"
      ],
      "execution_count": 95,
      "outputs": [
        {
          "output_type": "stream",
          "text": [
            "\n",
            "#################################################\n",
            "### THIS FILE WAS AUTOGENERATED! DO NOT EDIT! ###\n",
            "#################################################\n",
            "# file to edit: dev_nb/devLibFastAI.ipynb\n",
            "\n",
            "TEST='test'\n",
            "\n",
            "\n",
            "import operator\n",
            "\n",
            "def test(a,b,cmp,cname=None):\n",
            "  if cname is None: cname = cmp.__cname__\n",
            "  assert cmp(a,b),f\"{cname}:\\n{a}\\n{b}\"\n",
            "\n",
            "def test_eq(a,b): test(a,b,operator.eq,'==')\n"
          ],
          "name": "stdout"
        }
      ]
    },
    {
      "cell_type": "code",
      "metadata": {
        "id": "GnSYx9IFW4ti",
        "colab_type": "code",
        "colab": {
          "base_uri": "https://localhost:8080/",
          "height": 289
        },
        "outputId": "6a790655-6032-4e84-87e0-0fef390b5171"
      },
      "source": [
        "!cat exp/nb_devLibFastAI.py"
      ],
      "execution_count": 96,
      "outputs": [
        {
          "output_type": "stream",
          "text": [
            "\n",
            "#################################################\n",
            "### THIS FILE WAS AUTOGENERATED! DO NOT EDIT! ###\n",
            "#################################################\n",
            "# file to edit: dev_nb/devLibFastAI.ipynb\n",
            "\n",
            "TEST='test'\n",
            "\n",
            "\n",
            "import operator\n",
            "\n",
            "def test(a,b,cmp,cname=None):\n",
            "  if cname is None: cname = cmp.__cname__\n",
            "  assert cmp(a,b),f\"{cname}:\\n{a}\\n{b}\"\n",
            "\n",
            "def test_eq(a,b): test(a,b,operator.eq,'==')\n"
          ],
          "name": "stdout"
        }
      ]
    },
    {
      "cell_type": "code",
      "metadata": {
        "id": "OzZ_zw-UUuZU",
        "colab_type": "code",
        "colab": {
          "base_uri": "https://localhost:8080/",
          "height": 300
        },
        "outputId": "97023a5a-e662-4d79-cc5a-a4da2632f61f"
      },
      "source": [
        "from exp.nb_devLibFastAI.py import *\n"
      ],
      "execution_count": 104,
      "outputs": [
        {
          "output_type": "error",
          "ename": "ModuleNotFoundError",
          "evalue": "ignored",
          "traceback": [
            "\u001b[0;31m---------------------------------------------------------------------------\u001b[0m",
            "\u001b[0;31mModuleNotFoundError\u001b[0m                       Traceback (most recent call last)",
            "\u001b[0;32m<ipython-input-104-3daf68e9ece4>\u001b[0m in \u001b[0;36m<module>\u001b[0;34m()\u001b[0m\n\u001b[0;32m----> 1\u001b[0;31m \u001b[0;32mfrom\u001b[0m \u001b[0mexp\u001b[0m\u001b[0;34m.\u001b[0m\u001b[0mnb_devLibFastAI\u001b[0m\u001b[0;34m.\u001b[0m\u001b[0mpy\u001b[0m \u001b[0;32mimport\u001b[0m \u001b[0;34m*\u001b[0m\u001b[0;34m\u001b[0m\u001b[0;34m\u001b[0m\u001b[0m\n\u001b[0m",
            "\u001b[0;31mModuleNotFoundError\u001b[0m: No module named 'exp.nb_devLibFastAI.py'; 'exp.nb_devLibFastAI' is not a package",
            "",
            "\u001b[0;31m---------------------------------------------------------------------------\u001b[0;32m\nNOTE: If your import is failing due to a missing package, you can\nmanually install dependencies using either !pip or !apt.\n\nTo view examples of installing some common dependencies, click the\n\"Open Examples\" button below.\n\u001b[0;31m---------------------------------------------------------------------------\u001b[0m\n"
          ]
        }
      ]
    },
    {
      "cell_type": "code",
      "metadata": {
        "id": "YMDynXMXVnGn",
        "colab_type": "code",
        "colab": {}
      },
      "source": [
        ""
      ],
      "execution_count": 0,
      "outputs": []
    },
    {
      "cell_type": "code",
      "metadata": {
        "id": "QaHPAbfVV4SM",
        "colab_type": "code",
        "colab": {
          "base_uri": "https://localhost:8080/",
          "height": 34
        },
        "outputId": "5b86e48c-be9d-446d-cc0e-8bfea6e5c534"
      },
      "source": [
        "!ls exp\n"
      ],
      "execution_count": 105,
      "outputs": [
        {
          "output_type": "stream",
          "text": [
            "nb_devLibFastAI.py  __pycache__\n"
          ],
          "name": "stdout"
        }
      ]
    }
  ]
}